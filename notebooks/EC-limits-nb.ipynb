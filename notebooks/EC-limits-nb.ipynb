{
 "cells": [
  {
   "cell_type": "markdown",
   "metadata": {},
   "source": [
    "Reproducing \"Fundamental limitations of the eigenvalue continuation approach\", https://arxiv.org/abs/2202.07493\n"
   ]
  },
  {
   "cell_type": "code",
   "execution_count": 10,
   "metadata": {},
   "outputs": [],
   "source": [
    "def build_matrix_realization(H0,H1,g):\n",
    "    return matrix(RDF, H0 + H1*g)"
   ]
  },
  {
   "cell_type": "code",
   "execution_count": 60,
   "metadata": {},
   "outputs": [],
   "source": [
    "H0 = matrix(RDF,[[1,0.1,0],[0.1,2,0.5],[0,0.5,4]])  \n",
    "H1 = matrix(RDF,[[2.,0,0],[0,0,0],[0,0,-2.]])   \n",
    "#H0 = matrix(RDF,[[1,0,0],[0.1,2,0.3],[0,0.0,3]])  \n",
    "#H1 = matrix(RDF,[[0.,0,9.8],[0,0,0],[0,1.2,0]])   \n",
    "\n",
    "#H0 = matrix(RDF,[[1,0,0,0,0],[0,0.1,0.1,2,0.3],[0,0.0,3,2,0],[0,0,0,3.2,0],[0,0,0,0,5]])  \n",
    "#H1 = matrix(RDF,[[-2,0,-9.8,0,1],[0,0.018,0,0,0.1],[0.1,1.2,0,0.2,0.0],[12,0,0,0,1],[1,0,0,0,4]]) "
   ]
  },
  {
   "cell_type": "code",
   "execution_count": 61,
   "metadata": {},
   "outputs": [
    {
     "data": {
      "text/plain": [
       "[1.0 0.1 0.0]\n",
       "[0.1 2.0 0.5]\n",
       "[0.0 0.5 4.0]"
      ]
     },
     "execution_count": 61,
     "metadata": {},
     "output_type": "execute_result"
    }
   ],
   "source": [
    "H0"
   ]
  },
  {
   "cell_type": "code",
   "execution_count": 62,
   "metadata": {},
   "outputs": [
    {
     "data": {
      "text/plain": [
       "[ 2.0  0.0  0.0]\n",
       "[ 0.0  0.0  0.0]\n",
       "[ 0.0  0.0 -2.0]"
      ]
     },
     "execution_count": 62,
     "metadata": {},
     "output_type": "execute_result"
    }
   ],
   "source": [
    "H1"
   ]
  },
  {
   "cell_type": "code",
   "execution_count": 63,
   "metadata": {},
   "outputs": [],
   "source": [
    "g = var(\"g\", domain=\"real\")"
   ]
  },
  {
   "cell_type": "code",
   "execution_count": 64,
   "metadata": {},
   "outputs": [
    {
     "data": {
      "text/plain": [
       "[ 2.0*g + 1.0          0.1          0.0]\n",
       "[         0.1          2.0          0.5]\n",
       "[         0.0          0.5 -2.0*g + 4.0]"
      ]
     },
     "execution_count": 64,
     "metadata": {},
     "output_type": "execute_result"
    }
   ],
   "source": [
    "H = H0 + g * H1\n",
    "smallest_eigenval(g) = H.eigenvalues()[1].real_part()\n",
    "H"
   ]
  },
  {
   "cell_type": "code",
   "execution_count": 69,
   "metadata": {},
   "outputs": [
    {
     "name": "stderr",
     "output_type": "stream",
     "text": [
      "<ipython-input-69-b21c80bf0177>:11: ComplexWarning: Casting complex values to real discards the imaginary part\n",
      "  evs[:,i] = np.sort(w)\n"
     ]
    },
    {
     "data": {
      "image/png": "[encoded data removed]",
      "text/plain": [
       "<Figure size 432x288 with 1 Axes>"
      ]
     },
     "metadata": {
      "needs_background": "light"
     },
     "output_type": "display_data"
    }
   ],
   "source": [
    "import numpy as np\n",
    "import scipy as sc\n",
    "from matplotlib import pyplot as plt\n",
    "\n",
    "def plot_eigenvals(H0,H1,num_evs=3,ev_range=(0,2)):\n",
    "    evs = np.zeros((num_evs,200))\n",
    "    couplings = np.linspace(ev_range[0],ev_range[1],200)\n",
    "    for i, c in enumerate(couplings):\n",
    "        mat = np.array(H0) + c * np.array(H1)\n",
    "        w,v = sc.linalg.eig(mat)\n",
    "        evs[:,i] = np.sort(w)\n",
    "        \n",
    "    for i in range(num_evs):\n",
    "        plt.plot(couplings, evs[i,:])\n",
    "    \n",
    "    plt.show()\n",
    "\n",
    "plot_eigenvals(H0,H1)\n",
    "#plot_eigenvals(H0,H1,num_evs=5,ev_range=(0,0.2))"
   ]
  },
  {
   "cell_type": "code",
   "execution_count": 70,
   "metadata": {},
   "outputs": [
    {
     "name": "stdout",
     "output_type": "stream",
     "text": [
      "Target Hamiltonian, too solve approximately:\n",
      "[3.0 0.1 0.0]\n",
      "[0.1 2.0 0.5]\n",
      "[0.0 0.5 2.0]\n",
      "\n",
      "Projection of target Hamiltonian onto training subspace\n",
      "[1.6078931110369605 1.6358109221757586]\n",
      "[1.6358109221757584 1.7086388386592892]\n",
      "Eigenvector continuation: 1.496996, Exact: 1.496663, pct difference: 0.022235\n"
     ]
    }
   ],
   "source": [
    "def extract_gs_eigenvector(H):\n",
    "    return matrix(RDF, H.eigenvectors_right()[2][1]).transpose()\n",
    "\n",
    "ga = 1.4\n",
    "gb = 1.7\n",
    "\n",
    "g_target = 1\n",
    "\n",
    "H_target = build_matrix_realization(H0,H1,g_target)\n",
    "\n",
    "actual_ev_target = smallest_eigenval(g_target)\n",
    "\n",
    "eva = extract_gs_eigenvector(build_matrix_realization(H0,H1,ga))\n",
    "evb = extract_gs_eigenvector(build_matrix_realization(H0,H1,gb))\n",
    "\n",
    "HEC11 = (eva.T *  H_target * eva)[0][0]\n",
    "HEC12 = (eva.T *  H_target * evb)[0][0]\n",
    "HEC22 = (evb.T *  H_target * evb)[0][0]\n",
    "HEC21 = (evb.T *  H_target * eva)[0][0]\n",
    "\n",
    "N11 = (eva.T * eva)[0][0]\n",
    "N12 = (eva.T * evb)[0][0]\n",
    "N22 = (evb.T * evb)[0][0]\n",
    "N21 = (evb.T * eva)[0][0]\n",
    "\n",
    "HEC = matrix(RDF, [[HEC11, HEC12],[HEC21, HEC22]])\n",
    "N   = matrix(RDF, [[N11, N12],[N21, N22]])\n",
    "\n",
    "EC_ev_target =  min((N.inverse() * HEC).eigenvalues())\n",
    "pct_diff = 100*(EC_ev_target - actual_ev_target)/actual_ev_target\n",
    "\n",
    "print(\"Target Hamiltonian, too solve approximately:\")\n",
    "print(H_target)\n",
    "print(\"\\nProjection of target Hamiltonian onto training subspace\")\n",
    "print(HEC)\n",
    "print(\"Eigenvector continuation: {:1.6f}, Exact: {:1.6f}, pct difference: {:1.6f}\"\n",
    "      .format(float(EC_ev_target),float(actual_ev_target),float(pct_diff)))\n"
   ]
  },
  {
   "cell_type": "code",
   "execution_count": 71,
   "metadata": {},
   "outputs": [
    {
     "name": "stdout",
     "output_type": "stream",
     "text": [
      "Target Hamiltonian, too solve approximately:\n",
      "[[3.  0.1 0. ]\n",
      " [0.1 2.  0.5]\n",
      " [0.  0.5 2. ]]\n",
      "Eigenvector continuation: 1.496996, Exact: 1.496663+0.000000j, pct difference: 0.022235+0.000000j\n"
     ]
    },
    {
     "name": "stderr",
     "output_type": "stream",
     "text": [
      "<ipython-input-71-3f53c9a95504>:75: ComplexWarning: Casting complex values to real discards the imaginary part\n",
      "  .format(float(EC_ev_target), actual_ev_target, pct_diff))\n"
     ]
    }
   ],
   "source": [
    "# now, implement it fast \n",
    "from matplotlib import pyplot as plt\n",
    "\n",
    "\n",
    "def build_matrix(H0, H1, g):\n",
    "    return H0 + g * H1\n",
    "\n",
    "def matrix_min_eigenvec(matrix : np.array, gen_mat=None):\n",
    "    w,vr =  sc.linalg.eig(matrix, b=gen_mat)\n",
    "    return np.min(w), vr[:,np.argmin(w)]\n",
    "    \n",
    "def vec_hermitian_ip(vec1 : np.array, vec2 : np.array):\n",
    "    return np.dot(vec1.conj(), vec2)\n",
    "\n",
    "def train_EC(training_set : list, test_dimensions, training_dimensions, hf_min_eigenvec=matrix_min_eigenvec ):\n",
    "    \n",
    "    # eigenvectors of each training hamiltonian as column vectors\n",
    "    subspace_basis = np.zeros((training_dimensions, test_dimensions))\n",
    "    \n",
    "    for i in range(0, training_dimensions):\n",
    "        # each training Hamiltonian must have \n",
    "        assert(training_set[i].shape[0] == test_dimensions)\n",
    "        # get high fidelity data for each element of test space\n",
    "        w, v = hf_min_eigenvec(training_set[i])\n",
    "        subspace_basis[i,:] = v\n",
    "        \n",
    "    return subspace_basis\n",
    "        \n",
    "def run_EC(target_hamiltonian : np.array, subspace_basis: np.array, inner_product=vec_hermitian_ip):\n",
    "    # target Hamiltonian must be 2D square matrix\n",
    "    assert(len(target_hamiltonian.shape) == 2)\n",
    "    assert(target_hamiltonian.shape[0] == target_hamiltonian.shape[1])\n",
    "    \n",
    "    # each column vector in subspace basis must have same dimensionality as \n",
    "    # target Hamiltonian\n",
    "    training_dimensions, basis_size = subspace_basis.shape\n",
    "    assert(basis_size == target_hamiltonian.shape[0])\n",
    "    assert(basis_size > training_dimensions)\n",
    "\n",
    "    EC_Hamiltonian = np.zeros((training_dimensions, training_dimensions), dtype=float)\n",
    "    N = np.zeros((training_dimensions, training_dimensions), dtype=float)\n",
    "\n",
    "    for i in range(training_dimensions):\n",
    "        for j in range(training_dimensions):\n",
    "            N[i,j] = inner_product( subspace_basis[i,:], subspace_basis[j,:] )\n",
    "            EC_Hamiltonian[i,j] = inner_product(subspace_basis[i,:], target_hamiltonian @ subspace_basis[j,:])\n",
    "    \n",
    "    w, v = matrix_min_eigenvec(EC_Hamiltonian, gen_mat=N)\n",
    "    return w, v\n",
    "\n",
    "# build training hamiltonians\n",
    "training_couplings = [ga, gb]\n",
    "\n",
    "H0 = np.array(H0)\n",
    "H1 = np.array(H1)\n",
    "\n",
    "training_set = []\n",
    "for g in training_couplings:\n",
    "    training_set.append(np.array(build_matrix(H0,H1,g)))\n",
    "\n",
    "# train model by solving training hamiltonians\n",
    "train_dimensions = len(training_set)\n",
    "test_dimensions = training_set[0].shape[0]\n",
    "subspace_basis = train_EC(training_set, test_dimensions, train_dimensions )\n",
    "\n",
    "# run EC for a target Hamiltonian\n",
    "target_H = np.array(build_matrix(H0,H1,g_target))\n",
    "actual_ev_target, _ = matrix_min_eigenvec(target_H)\n",
    "EC_ev_target    , _ = run_EC(target_H, subspace_basis)\n",
    "pct_diff = 100*(EC_ev_target - actual_ev_target)/actual_ev_target\n",
    "\n",
    "print(\"Target Hamiltonian, too solve approximately:\")\n",
    "print(target_H)\n",
    "print(\"Eigenvector continuation: {:1.6f}, Exact: {:1.6f}, pct difference: {:1.6f}\"\n",
    "      .format(float(EC_ev_target), actual_ev_target, pct_diff))"
   ]
  },
  {
   "cell_type": "code",
   "execution_count": 75,
   "metadata": {},
   "outputs": [
    {
     "name": "stderr",
     "output_type": "stream",
     "text": [
      "<ipython-input-75-6ae0fb82b4ab>:7: ComplexWarning: Casting complex values to real discards the imaginary part\n",
      "  test_ev[i], _ = run_EC(target_H, subspace_basis)\n"
     ]
    },
    {
     "name": "stdout",
     "output_type": "stream",
     "text": [
      "For training set: 0, L2 is 1.56282+0.00000j\n",
      "For training set: 1, L2 is 6.73623+0.00000j\n",
      "For training set: 2, L2 is 3.27836+0.00000j\n",
      "For training set: 3, L2 is 2.42235+0.00000j\n"
     ]
    },
    {
     "data": {
      "image/png": "[encoded data removed]",
      "text/plain": [
       "<Figure size 432x288 with 1 Axes>"
      ]
     },
     "metadata": {
      "needs_background": "light"
     },
     "output_type": "display_data"
    }
   ],
   "source": [
    "# batch function\n",
    "def run_EC_coupling(subspace_basis, test_couplings, H0, H1):\n",
    "    test_ev = np.zeros(len(test_couplings))\n",
    "    for i in range(len(test_couplings)):\n",
    "        g = test_couplings[i]\n",
    "        target_H = np.array(build_matrix_realization(H0,H1,g))\n",
    "        test_ev[i], _ = run_EC(target_H, subspace_basis)\n",
    "    \n",
    "    return test_ev\n",
    "\n",
    "        \n",
    "# compare trained EC to analytic eigenvalue\n",
    "coupling = np.linspace(0.0,2, 100, dtype=float)\n",
    "def sme(g):\n",
    "    w,_ = matrix_min_eigenvec(np.array(build_matrix(H0,H1,g)))\n",
    "    return w\n",
    "\n",
    "smallest_ev_exact = np.array([sme(g) for g in coupling])\n",
    "\n",
    "plt.plot(coupling, smallest_ev_exact, 'k', label=\"exact\")\n",
    "training_pairs = [(0.2,1.5), (0.1,0.3), (0.5,0.8), (1.4,1.7)]\n",
    "#training_pairs = [(0.5,1.25,8), (0.1,6), (1.4,1.7)]\n",
    "\n",
    "for i,t in enumerate(training_pairs):\n",
    "    training_set = []\n",
    "    for g in t:\n",
    "        training_set.append(np.array(build_matrix(H0,H1,g)))\n",
    "    \n",
    "    train_dimensions = len(training_set)\n",
    "    test_dimensions = training_set[0].shape[0]\n",
    "    subspace_basis = train_EC(training_set, test_dimensions, train_dimensions )\n",
    "    ec_eval = run_EC_coupling(subspace_basis, coupling, H0, H1)\n",
    "    p = plt.plot(coupling, ec_eval, \":\", label=t)\n",
    "    for g in t:\n",
    "        ec_g,_ = run_EC( np.array(build_matrix_realization(H0,H1,g)), subspace_basis)\n",
    "        plt.plot([g,g], [ec_g, ec_g], p[0].get_color(), marker=\"x\", markersize=12)\n",
    "    \n",
    "    l2 = np.sqrt(np.dot(smallest_ev_exact - ec_eval, smallest_ev_exact - ec_eval))\n",
    "    print(\"For training set: {}, L2 is {:1.5f}\".format(i, l2))\n",
    "\n",
    "#plt.xlim([0,2])\n",
    "#plt.ylim([0,2.5])\n",
    "plt.xlabel(r\"coupling $g$\")\n",
    "plt.ylabel(r\"eigenvalue\")\n",
    "plt.legend()\n",
    "plt.tight_layout()\n",
    "\n",
    "\n"
   ]
  },
  {
   "cell_type": "code",
   "execution_count": null,
   "metadata": {},
   "outputs": [],
   "source": []
  },
  {
   "cell_type": "code",
   "execution_count": null,
   "metadata": {},
   "outputs": [],
   "source": []
  },
  {
   "cell_type": "code",
   "execution_count": null,
   "metadata": {},
   "outputs": [],
   "source": []
  },
  {
   "cell_type": "code",
   "execution_count": null,
   "metadata": {},
   "outputs": [],
   "source": []
  },
  {
   "cell_type": "code",
   "execution_count": null,
   "metadata": {},
   "outputs": [],
   "source": []
  },
  {
   "cell_type": "code",
   "execution_count": null,
   "metadata": {},
   "outputs": [],
   "source": []
  }
 ],
 "metadata": {
  "kernelspec": {
   "display_name": "SageMath 9.0",
   "language": "sage",
   "name": "sagemath"
  },
  "language_info": {
   "codemirror_mode": {
    "name": "ipython",
    "version": 3
   },
   "file_extension": ".py",
   "mimetype": "text/x-python",
   "name": "python",
   "nbconvert_exporter": "python",
   "pygments_lexer": "ipython3",
   "version": "3.8.10"
  }
 },
 "nbformat": 4,
 "nbformat_minor": 4
}
